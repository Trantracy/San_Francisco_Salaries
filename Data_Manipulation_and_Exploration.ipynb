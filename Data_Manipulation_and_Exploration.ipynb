{
  "nbformat": 4,
  "nbformat_minor": 0,
  "metadata": {
    "colab": {
      "name": "FTMLE_Data Manipulation and Exploration.ipynb",
      "provenance": [],
      "collapsed_sections": [],
      "include_colab_link": true
    },
    "language_info": {
      "codemirror_mode": {
        "name": "ipython",
        "version": 3
      },
      "file_extension": ".py",
      "mimetype": "text/x-python",
      "name": "python",
      "nbconvert_exporter": "python",
      "pygments_lexer": "ipython3",
      "version": "3.6.5"
    },
    "kernelspec": {
      "display_name": "Python 3",
      "language": "python",
      "name": "python3"
    }
  },
  "cells": [
    {
      "cell_type": "markdown",
      "metadata": {
        "id": "view-in-github",
        "colab_type": "text"
      },
      "source": [
        "<a href=\"https://colab.research.google.com/github/Trantracy/San_Francisco_Salaries/blob/master/Data_Manipulation_and_Exploration.ipynb\" target=\"_parent\"><img src=\"https://colab.research.google.com/assets/colab-badge.svg\" alt=\"Open In Colab\"/></a>"
      ]
    },
    {
      "cell_type": "markdown",
      "metadata": {
        "id": "x7fdTGs4SnyS",
        "colab_type": "text"
      },
      "source": [
        "![](https://i.imgur.com/0AUxkXt.png)"
      ]
    },
    {
      "cell_type": "markdown",
      "metadata": {
        "id": "ZBc0glanPm0M",
        "colab_type": "text"
      },
      "source": [
        "## Example - San Francisco city employee salary data\n",
        "\n",
        "One way to understand how a city government works is by looking at who it employs and how its employees are compensated. This data contains the names, job title, and compensation for San Francisco city employees on an annual basis from 2011 to 2014.\n",
        "\n",
        "\n",
        "### Step 1 - Exploration Ideas\n",
        "\n",
        "1. How have salaries changed over time between different groups of people?\n",
        "2. How are base pay, overtime pay, and benefits allocated between different groups?\n",
        "4. How is budget allocated based on different groups and responsibilities?\n",
        "\n",
        "### Step 2 - Checking the data\n",
        "\n",
        "**Import tools set**"
      ]
    },
    {
      "cell_type": "code",
      "metadata": {
        "id": "9Cx3LXxfPm0N",
        "colab_type": "code",
        "colab": {}
      },
      "source": [
        "import numpy as np\n",
        "import pandas as pd\n",
        "import seaborn as sns\n",
        "import matplotlib.pyplot as plt\n",
        "\n",
        "import warnings\n",
        "warnings.filterwarnings('ignore')\n",
        "\n",
        "sns.set_style(\"whitegrid\")"
      ],
      "execution_count": 0,
      "outputs": []
    },
    {
      "cell_type": "code",
      "metadata": {
        "id": "el89bMeBTApY",
        "colab_type": "code",
        "outputId": "e8abd9a9-d460-4fba-adf3-78ad30acb16a",
        "colab": {
          "base_uri": "https://localhost:8080/",
          "height": 34
        }
      },
      "source": [
        "from google.colab import drive\n",
        "drive.mount('/content/gdrive')"
      ],
      "execution_count": 0,
      "outputs": [
        {
          "output_type": "stream",
          "text": [
            "Drive already mounted at /content/gdrive; to attempt to forcibly remount, call drive.mount(\"/content/gdrive\", force_remount=True).\n"
          ],
          "name": "stdout"
        }
      ]
    },
    {
      "cell_type": "code",
      "metadata": {
        "id": "w0YVchrVPm0R",
        "colab_type": "code",
        "colab": {}
      },
      "source": [
        "# Fill the blanks\n",
        "sal = pd.read_csv('/content/gdrive/My Drive/Student Files/FTMLE - Tonga/Data/salaries.csv')"
      ],
      "execution_count": 0,
      "outputs": []
    },
    {
      "cell_type": "markdown",
      "metadata": {
        "id": "6nU6CxSjPm0U",
        "colab_type": "text"
      },
      "source": [
        "### Overview"
      ]
    },
    {
      "cell_type": "code",
      "metadata": {
        "id": "v_BKYV2qPm0V",
        "colab_type": "code",
        "outputId": "531abece-79d3-4e39-93fc-5013c4f34501",
        "colab": {
          "base_uri": "https://localhost:8080/",
          "height": 334
        }
      },
      "source": [
        "# Show a summary of the data\n",
        "sal.info()"
      ],
      "execution_count": 0,
      "outputs": [
        {
          "output_type": "stream",
          "text": [
            "<class 'pandas.core.frame.DataFrame'>\n",
            "RangeIndex: 148654 entries, 0 to 148653\n",
            "Data columns (total 13 columns):\n",
            "Id                  148654 non-null int64\n",
            "EmployeeName        148654 non-null object\n",
            "JobTitle            148654 non-null object\n",
            "BasePay             148045 non-null float64\n",
            "OvertimePay         148650 non-null float64\n",
            "OtherPay            148650 non-null float64\n",
            "Benefits            112491 non-null float64\n",
            "TotalPay            148654 non-null float64\n",
            "TotalPayBenefits    148654 non-null float64\n",
            "Year                148654 non-null int64\n",
            "Notes               0 non-null float64\n",
            "Agency              148654 non-null object\n",
            "Status              0 non-null float64\n",
            "dtypes: float64(8), int64(2), object(3)\n",
            "memory usage: 14.7+ MB\n"
          ],
          "name": "stdout"
        }
      ]
    },
    {
      "cell_type": "code",
      "metadata": {
        "id": "OjLrS9wlPm0a",
        "colab_type": "code",
        "outputId": "0f7968b6-c1cd-4759-ff90-062a6fafcd93",
        "colab": {
          "base_uri": "https://localhost:8080/",
          "height": 617
        }
      },
      "source": [
        "# Show some 10 random rows\n",
        "sal.sample(10)"
      ],
      "execution_count": 0,
      "outputs": [
        {
          "output_type": "execute_result",
          "data": {
            "text/html": [
              "<div>\n",
              "<style scoped>\n",
              "    .dataframe tbody tr th:only-of-type {\n",
              "        vertical-align: middle;\n",
              "    }\n",
              "\n",
              "    .dataframe tbody tr th {\n",
              "        vertical-align: top;\n",
              "    }\n",
              "\n",
              "    .dataframe thead th {\n",
              "        text-align: right;\n",
              "    }\n",
              "</style>\n",
              "<table border=\"1\" class=\"dataframe\">\n",
              "  <thead>\n",
              "    <tr style=\"text-align: right;\">\n",
              "      <th></th>\n",
              "      <th>Id</th>\n",
              "      <th>EmployeeName</th>\n",
              "      <th>JobTitle</th>\n",
              "      <th>BasePay</th>\n",
              "      <th>OvertimePay</th>\n",
              "      <th>OtherPay</th>\n",
              "      <th>Benefits</th>\n",
              "      <th>TotalPay</th>\n",
              "      <th>TotalPayBenefits</th>\n",
              "      <th>Year</th>\n",
              "      <th>Notes</th>\n",
              "      <th>Agency</th>\n",
              "      <th>Status</th>\n",
              "    </tr>\n",
              "  </thead>\n",
              "  <tbody>\n",
              "    <tr>\n",
              "      <th>127833</th>\n",
              "      <td>127834</td>\n",
              "      <td>Letha Jones</td>\n",
              "      <td>Transit Operator</td>\n",
              "      <td>61358.41</td>\n",
              "      <td>9102.24</td>\n",
              "      <td>3713.23</td>\n",
              "      <td>32819.76</td>\n",
              "      <td>74173.88</td>\n",
              "      <td>106993.64</td>\n",
              "      <td>2014</td>\n",
              "      <td>NaN</td>\n",
              "      <td>San Francisco</td>\n",
              "      <td>NaN</td>\n",
              "    </tr>\n",
              "    <tr>\n",
              "      <th>74182</th>\n",
              "      <td>74183</td>\n",
              "      <td>Connie J Brandon</td>\n",
              "      <td>Attorney (Civil/Criminal)</td>\n",
              "      <td>179925.40</td>\n",
              "      <td>0.00</td>\n",
              "      <td>1250.00</td>\n",
              "      <td>49382.63</td>\n",
              "      <td>181175.40</td>\n",
              "      <td>230558.03</td>\n",
              "      <td>2013</td>\n",
              "      <td>NaN</td>\n",
              "      <td>San Francisco</td>\n",
              "      <td>NaN</td>\n",
              "    </tr>\n",
              "    <tr>\n",
              "      <th>128167</th>\n",
              "      <td>128168</td>\n",
              "      <td>Daniel A Villcas</td>\n",
              "      <td>HSA Sr Eligibility Worker</td>\n",
              "      <td>74259.33</td>\n",
              "      <td>321.98</td>\n",
              "      <td>1180.00</td>\n",
              "      <td>30285.38</td>\n",
              "      <td>75761.31</td>\n",
              "      <td>106046.69</td>\n",
              "      <td>2014</td>\n",
              "      <td>NaN</td>\n",
              "      <td>San Francisco</td>\n",
              "      <td>NaN</td>\n",
              "    </tr>\n",
              "    <tr>\n",
              "      <th>114149</th>\n",
              "      <td>114150</td>\n",
              "      <td>Elayne Hada-Souza</td>\n",
              "      <td>Registered Nurse</td>\n",
              "      <td>133150.01</td>\n",
              "      <td>0.00</td>\n",
              "      <td>8914.57</td>\n",
              "      <td>46991.62</td>\n",
              "      <td>142064.58</td>\n",
              "      <td>189056.20</td>\n",
              "      <td>2014</td>\n",
              "      <td>NaN</td>\n",
              "      <td>San Francisco</td>\n",
              "      <td>NaN</td>\n",
              "    </tr>\n",
              "    <tr>\n",
              "      <th>51416</th>\n",
              "      <td>51417</td>\n",
              "      <td>Tanita Dawson</td>\n",
              "      <td>Senior Administrative Analyst</td>\n",
              "      <td>78374.80</td>\n",
              "      <td>0.00</td>\n",
              "      <td>0.00</td>\n",
              "      <td>34347.20</td>\n",
              "      <td>78374.80</td>\n",
              "      <td>112722.00</td>\n",
              "      <td>2012</td>\n",
              "      <td>NaN</td>\n",
              "      <td>San Francisco</td>\n",
              "      <td>NaN</td>\n",
              "    </tr>\n",
              "    <tr>\n",
              "      <th>106042</th>\n",
              "      <td>106043</td>\n",
              "      <td>Jomarsan  Cenit</td>\n",
              "      <td>Museum Guard</td>\n",
              "      <td>9818.95</td>\n",
              "      <td>0.00</td>\n",
              "      <td>0.00</td>\n",
              "      <td>0.00</td>\n",
              "      <td>9818.95</td>\n",
              "      <td>9818.95</td>\n",
              "      <td>2013</td>\n",
              "      <td>NaN</td>\n",
              "      <td>San Francisco</td>\n",
              "      <td>NaN</td>\n",
              "    </tr>\n",
              "    <tr>\n",
              "      <th>108051</th>\n",
              "      <td>108052</td>\n",
              "      <td>Chad E Barr</td>\n",
              "      <td>Public Svc Aide-Public Works</td>\n",
              "      <td>4536.94</td>\n",
              "      <td>0.00</td>\n",
              "      <td>100.82</td>\n",
              "      <td>46.38</td>\n",
              "      <td>4637.76</td>\n",
              "      <td>4684.14</td>\n",
              "      <td>2013</td>\n",
              "      <td>NaN</td>\n",
              "      <td>San Francisco</td>\n",
              "      <td>NaN</td>\n",
              "    </tr>\n",
              "    <tr>\n",
              "      <th>90729</th>\n",
              "      <td>90730</td>\n",
              "      <td>Winifreda  Panopio</td>\n",
              "      <td>Principal Account Clerk</td>\n",
              "      <td>73899.01</td>\n",
              "      <td>2387.39</td>\n",
              "      <td>648.00</td>\n",
              "      <td>28462.26</td>\n",
              "      <td>76934.40</td>\n",
              "      <td>105396.66</td>\n",
              "      <td>2013</td>\n",
              "      <td>NaN</td>\n",
              "      <td>San Francisco</td>\n",
              "      <td>NaN</td>\n",
              "    </tr>\n",
              "    <tr>\n",
              "      <th>101018</th>\n",
              "      <td>101019</td>\n",
              "      <td>Tran T Phung</td>\n",
              "      <td>Public Svc Aide-Public Works</td>\n",
              "      <td>29132.53</td>\n",
              "      <td>0.00</td>\n",
              "      <td>0.00</td>\n",
              "      <td>20578.37</td>\n",
              "      <td>29132.53</td>\n",
              "      <td>49710.90</td>\n",
              "      <td>2013</td>\n",
              "      <td>NaN</td>\n",
              "      <td>San Francisco</td>\n",
              "      <td>NaN</td>\n",
              "    </tr>\n",
              "    <tr>\n",
              "      <th>114580</th>\n",
              "      <td>114581</td>\n",
              "      <td>Zexu Fang</td>\n",
              "      <td>Registered Nurse</td>\n",
              "      <td>127085.80</td>\n",
              "      <td>5362.69</td>\n",
              "      <td>11179.95</td>\n",
              "      <td>40610.27</td>\n",
              "      <td>143628.44</td>\n",
              "      <td>184238.71</td>\n",
              "      <td>2014</td>\n",
              "      <td>NaN</td>\n",
              "      <td>San Francisco</td>\n",
              "      <td>NaN</td>\n",
              "    </tr>\n",
              "  </tbody>\n",
              "</table>\n",
              "</div>"
            ],
            "text/plain": [
              "            Id        EmployeeName  ...         Agency  Status\n",
              "127833  127834         Letha Jones  ...  San Francisco     NaN\n",
              "74182    74183    Connie J Brandon  ...  San Francisco     NaN\n",
              "128167  128168    Daniel A Villcas  ...  San Francisco     NaN\n",
              "114149  114150   Elayne Hada-Souza  ...  San Francisco     NaN\n",
              "51416    51417       Tanita Dawson  ...  San Francisco     NaN\n",
              "106042  106043     Jomarsan  Cenit  ...  San Francisco     NaN\n",
              "108051  108052         Chad E Barr  ...  San Francisco     NaN\n",
              "90729    90730  Winifreda  Panopio  ...  San Francisco     NaN\n",
              "101018  101019        Tran T Phung  ...  San Francisco     NaN\n",
              "114580  114581           Zexu Fang  ...  San Francisco     NaN\n",
              "\n",
              "[10 rows x 13 columns]"
            ]
          },
          "metadata": {
            "tags": []
          },
          "execution_count": 139
        }
      ]
    },
    {
      "cell_type": "markdown",
      "metadata": {
        "id": "wY6yv3UsPm0k",
        "colab_type": "text"
      },
      "source": [
        "### Step 3 - Cleaning the data\n",
        "\n",
        "Few of useful data cleaning functions:\n",
        "\n",
        "* `s.astype('category')` # This will convert the datatype of the series to float *Please note that \"s\" here is a Pandas Series\n",
        "\n",
        "* `s.replace(1,'one')` # This will replace all values equal to 1 with 'one'\n",
        "\n",
        "* `s.replace([1,3],['one','three'])` # This will replace all 1 with 'one' and 3 with 'three'\n",
        "\n",
        "* `data.rename(columns=lambda x: x + 1)` # Mass renaming of columns\n",
        "\n",
        "* `data.rename(columns={'oldname': 'new name'})` # Selective renaming\n",
        "\n",
        "* `data.set_index('column_one')` #  This will change the index\n",
        "\n",
        "* `data.rename(index=lambda x: x + 1)` # Mass renaming of index\n",
        "\n",
        "* `data.dropna()` # Remove missing values\n",
        "\n",
        "* `data.fillna(x)` #  This will replaces all null values with x\n",
        "\n",
        "* `s.fillna(s.mean())` # This will replace all null values with the mean (mean can be replaced with almost any function from the below section) :\n",
        "\n",
        "* `data.corr()` # This will return the correlation between columns in a DataFrame\n",
        "\n",
        "* `data.count()` # This will return the number of non-null values in each DataFrame column\n",
        "\n",
        "* `data.max()` # This will return the highest value in each column\n",
        "\n",
        "* `data.min()` # This will return the lowest value in each column\n",
        "\n",
        "* `data.median()` # This will return the median of each column\n",
        "\n",
        "* `data.std()` # This will returns the standard deviation of each column\n"
      ]
    },
    {
      "cell_type": "markdown",
      "metadata": {
        "id": "e5NuNcPscq9x",
        "colab_type": "text"
      },
      "source": [
        "**Check duplication in columns in which the data must be unique**"
      ]
    },
    {
      "cell_type": "code",
      "metadata": {
        "id": "GPIDpsygPm0l",
        "colab_type": "code",
        "outputId": "31bccbfa-e787-4ae1-c055-8fb3cce7e78d",
        "colab": {
          "base_uri": "https://localhost:8080/",
          "height": 34
        }
      },
      "source": [
        "# Id must be unique\n",
        "# So the number of unique values must be equal the number of rows\n",
        "sal['Id'].nunique() == sal.shape[0]"
      ],
      "execution_count": 0,
      "outputs": [
        {
          "output_type": "execute_result",
          "data": {
            "text/plain": [
              "True"
            ]
          },
          "metadata": {
            "tags": []
          },
          "execution_count": 140
        }
      ]
    },
    {
      "cell_type": "markdown",
      "metadata": {
        "id": "1cmMLYR5fsGl",
        "colab_type": "text"
      },
      "source": [
        "**Change the type to category**"
      ]
    },
    {
      "cell_type": "code",
      "metadata": {
        "id": "LtaeNb4yPm0p",
        "colab_type": "code",
        "colab": {}
      },
      "source": [
        "# Change Year to be a categorical variable too\n",
        "sal['Year'] = sal['Year'].astype('category')"
      ],
      "execution_count": 0,
      "outputs": []
    },
    {
      "cell_type": "markdown",
      "metadata": {
        "id": "VSVoX1K3Pm0s",
        "colab_type": "text"
      },
      "source": [
        "**Drop unnecessary columns**"
      ]
    },
    {
      "cell_type": "code",
      "metadata": {
        "id": "RHV8TMa1Pm0t",
        "colab_type": "code",
        "outputId": "cced97ae-822d-4a60-c6ef-c0023854e397",
        "colab": {
          "base_uri": "https://localhost:8080/",
          "height": 334
        }
      },
      "source": [
        "# Look at the info() again, which columns you can drop immediately?\n",
        "sal.info()"
      ],
      "execution_count": 0,
      "outputs": [
        {
          "output_type": "stream",
          "text": [
            "<class 'pandas.core.frame.DataFrame'>\n",
            "RangeIndex: 148654 entries, 0 to 148653\n",
            "Data columns (total 13 columns):\n",
            "Id                  148654 non-null int64\n",
            "EmployeeName        148654 non-null object\n",
            "JobTitle            148654 non-null object\n",
            "BasePay             148045 non-null float64\n",
            "OvertimePay         148650 non-null float64\n",
            "OtherPay            148650 non-null float64\n",
            "Benefits            112491 non-null float64\n",
            "TotalPay            148654 non-null float64\n",
            "TotalPayBenefits    148654 non-null float64\n",
            "Year                148654 non-null category\n",
            "Notes               0 non-null float64\n",
            "Agency              148654 non-null object\n",
            "Status              0 non-null float64\n",
            "dtypes: category(1), float64(8), int64(1), object(3)\n",
            "memory usage: 13.8+ MB\n"
          ],
          "name": "stdout"
        }
      ]
    },
    {
      "cell_type": "code",
      "metadata": {
        "id": "xOd8FqfstnHy",
        "colab_type": "code",
        "colab": {}
      },
      "source": [
        "sal.drop(columns=['Notes','Status'], inplace = True)"
      ],
      "execution_count": 0,
      "outputs": []
    },
    {
      "cell_type": "code",
      "metadata": {
        "id": "xCvrYvQMPm0w",
        "colab_type": "code",
        "outputId": "55e006c9-08e5-417e-ad2f-54d28d1f79bb",
        "colab": {
          "base_uri": "https://localhost:8080/",
          "height": 34
        }
      },
      "source": [
        "# Are there any other columns that don't bring us much information?\n",
        "sal['Agency'].nunique()"
      ],
      "execution_count": 0,
      "outputs": [
        {
          "output_type": "execute_result",
          "data": {
            "text/plain": [
              "1"
            ]
          },
          "metadata": {
            "tags": []
          },
          "execution_count": 144
        }
      ]
    },
    {
      "cell_type": "code",
      "metadata": {
        "id": "y0SZN1ssvjGI",
        "colab_type": "code",
        "colab": {}
      },
      "source": [
        "sal.drop(columns=['Id','Agency'], inplace = True)"
      ],
      "execution_count": 0,
      "outputs": []
    },
    {
      "cell_type": "code",
      "metadata": {
        "id": "-Aykt_CoPm02",
        "colab_type": "code",
        "outputId": "34d3d234-1040-4f4f-ecda-e6a2f28a98c3",
        "colab": {
          "base_uri": "https://localhost:8080/",
          "height": 263
        }
      },
      "source": [
        "# Check again with info()\n",
        "sal.info()"
      ],
      "execution_count": 0,
      "outputs": [
        {
          "output_type": "stream",
          "text": [
            "<class 'pandas.core.frame.DataFrame'>\n",
            "RangeIndex: 148654 entries, 0 to 148653\n",
            "Data columns (total 9 columns):\n",
            "EmployeeName        148654 non-null object\n",
            "JobTitle            148654 non-null object\n",
            "BasePay             148045 non-null float64\n",
            "OvertimePay         148650 non-null float64\n",
            "OtherPay            148650 non-null float64\n",
            "Benefits            112491 non-null float64\n",
            "TotalPay            148654 non-null float64\n",
            "TotalPayBenefits    148654 non-null float64\n",
            "Year                148654 non-null category\n",
            "dtypes: category(1), float64(6), object(2)\n",
            "memory usage: 9.2+ MB\n"
          ],
          "name": "stdout"
        }
      ]
    },
    {
      "cell_type": "markdown",
      "metadata": {
        "id": "rcNsGWarPm06",
        "colab_type": "text"
      },
      "source": [
        "**Check for NaN values**"
      ]
    },
    {
      "cell_type": "code",
      "metadata": {
        "id": "TqLxHGy2Pm06",
        "colab_type": "code",
        "outputId": "a0678143-b988-4238-ee2e-f0c8f6c94ef3",
        "colab": {
          "base_uri": "https://localhost:8080/",
          "height": 193
        }
      },
      "source": [
        "# Check missing values\n",
        "sal.isnull().sum()"
      ],
      "execution_count": 0,
      "outputs": [
        {
          "output_type": "execute_result",
          "data": {
            "text/plain": [
              "EmployeeName            0\n",
              "JobTitle                0\n",
              "BasePay               609\n",
              "OvertimePay             4\n",
              "OtherPay                4\n",
              "Benefits            36163\n",
              "TotalPay                0\n",
              "TotalPayBenefits        0\n",
              "Year                    0\n",
              "dtype: int64"
            ]
          },
          "metadata": {
            "tags": []
          },
          "execution_count": 148
        }
      ]
    },
    {
      "cell_type": "markdown",
      "metadata": {
        "id": "RdhPk_x1Pm0-",
        "colab_type": "text"
      },
      "source": [
        "**Examine few examples of NaN values**"
      ]
    },
    {
      "cell_type": "code",
      "metadata": {
        "id": "3kGYpbdOPm0-",
        "colab_type": "code",
        "outputId": "f2f6fb79-eadc-4df3-a89c-e55794ec4b16",
        "colab": {
          "base_uri": "https://localhost:8080/",
          "height": 172
        }
      },
      "source": [
        "# List all NaN values of OtherPay\n",
        "sal[sal['OtherPay'].isnull()]"
      ],
      "execution_count": 0,
      "outputs": [
        {
          "output_type": "execute_result",
          "data": {
            "text/html": [
              "<div>\n",
              "<style scoped>\n",
              "    .dataframe tbody tr th:only-of-type {\n",
              "        vertical-align: middle;\n",
              "    }\n",
              "\n",
              "    .dataframe tbody tr th {\n",
              "        vertical-align: top;\n",
              "    }\n",
              "\n",
              "    .dataframe thead th {\n",
              "        text-align: right;\n",
              "    }\n",
              "</style>\n",
              "<table border=\"1\" class=\"dataframe\">\n",
              "  <thead>\n",
              "    <tr style=\"text-align: right;\">\n",
              "      <th></th>\n",
              "      <th>EmployeeName</th>\n",
              "      <th>JobTitle</th>\n",
              "      <th>BasePay</th>\n",
              "      <th>OvertimePay</th>\n",
              "      <th>OtherPay</th>\n",
              "      <th>Benefits</th>\n",
              "      <th>TotalPay</th>\n",
              "      <th>TotalPayBenefits</th>\n",
              "      <th>Year</th>\n",
              "    </tr>\n",
              "  </thead>\n",
              "  <tbody>\n",
              "    <tr>\n",
              "      <th>148646</th>\n",
              "      <td>Not provided</td>\n",
              "      <td>Not provided</td>\n",
              "      <td>NaN</td>\n",
              "      <td>NaN</td>\n",
              "      <td>NaN</td>\n",
              "      <td>NaN</td>\n",
              "      <td>0.0</td>\n",
              "      <td>0.0</td>\n",
              "      <td>2014</td>\n",
              "    </tr>\n",
              "    <tr>\n",
              "      <th>148650</th>\n",
              "      <td>Not provided</td>\n",
              "      <td>Not provided</td>\n",
              "      <td>NaN</td>\n",
              "      <td>NaN</td>\n",
              "      <td>NaN</td>\n",
              "      <td>NaN</td>\n",
              "      <td>0.0</td>\n",
              "      <td>0.0</td>\n",
              "      <td>2014</td>\n",
              "    </tr>\n",
              "    <tr>\n",
              "      <th>148651</th>\n",
              "      <td>Not provided</td>\n",
              "      <td>Not provided</td>\n",
              "      <td>NaN</td>\n",
              "      <td>NaN</td>\n",
              "      <td>NaN</td>\n",
              "      <td>NaN</td>\n",
              "      <td>0.0</td>\n",
              "      <td>0.0</td>\n",
              "      <td>2014</td>\n",
              "    </tr>\n",
              "    <tr>\n",
              "      <th>148652</th>\n",
              "      <td>Not provided</td>\n",
              "      <td>Not provided</td>\n",
              "      <td>NaN</td>\n",
              "      <td>NaN</td>\n",
              "      <td>NaN</td>\n",
              "      <td>NaN</td>\n",
              "      <td>0.0</td>\n",
              "      <td>0.0</td>\n",
              "      <td>2014</td>\n",
              "    </tr>\n",
              "  </tbody>\n",
              "</table>\n",
              "</div>"
            ],
            "text/plain": [
              "        EmployeeName      JobTitle  BasePay  ...  TotalPay  TotalPayBenefits  Year\n",
              "148646  Not provided  Not provided      NaN  ...       0.0               0.0  2014\n",
              "148650  Not provided  Not provided      NaN  ...       0.0               0.0  2014\n",
              "148651  Not provided  Not provided      NaN  ...       0.0               0.0  2014\n",
              "148652  Not provided  Not provided      NaN  ...       0.0               0.0  2014\n",
              "\n",
              "[4 rows x 9 columns]"
            ]
          },
          "metadata": {
            "tags": []
          },
          "execution_count": 149
        }
      ]
    },
    {
      "cell_type": "markdown",
      "metadata": {
        "id": "pNv3autOjiFj",
        "colab_type": "text"
      },
      "source": [
        "**Drop missing values of OtherPay and OvertimePay**"
      ]
    },
    {
      "cell_type": "code",
      "metadata": {
        "id": "ZDgbdnlhPm1C",
        "colab_type": "code",
        "colab": {}
      },
      "source": [
        "# Drop missing values\n",
        "sal.drop(labels = sal[sal['OtherPay'].isnull()].index, axis = 0, inplace = True)\n",
        "\n",
        "# Other way,\n",
        "# sal[sal['OtherPay'].isnull()].dropna(inplace = True)"
      ],
      "execution_count": 0,
      "outputs": []
    },
    {
      "cell_type": "markdown",
      "metadata": {
        "id": "E8C8-rJ6kb5A",
        "colab_type": "text"
      },
      "source": [
        "**Analize missing values of BasePay and Benefits**"
      ]
    },
    {
      "cell_type": "code",
      "metadata": {
        "id": "auarSm-bPm1G",
        "colab_type": "code",
        "outputId": "644e63ab-4812-4e28-d535-efe6b7f535d9",
        "colab": {
          "base_uri": "https://localhost:8080/",
          "height": 358
        }
      },
      "source": [
        "# Select 10 sample of data that BasePay is null\n",
        "sal[sal['BasePay'].isnull()].sample(10)"
      ],
      "execution_count": 0,
      "outputs": [
        {
          "output_type": "execute_result",
          "data": {
            "text/html": [
              "<div>\n",
              "<style scoped>\n",
              "    .dataframe tbody tr th:only-of-type {\n",
              "        vertical-align: middle;\n",
              "    }\n",
              "\n",
              "    .dataframe tbody tr th {\n",
              "        vertical-align: top;\n",
              "    }\n",
              "\n",
              "    .dataframe thead th {\n",
              "        text-align: right;\n",
              "    }\n",
              "</style>\n",
              "<table border=\"1\" class=\"dataframe\">\n",
              "  <thead>\n",
              "    <tr style=\"text-align: right;\">\n",
              "      <th></th>\n",
              "      <th>EmployeeName</th>\n",
              "      <th>JobTitle</th>\n",
              "      <th>BasePay</th>\n",
              "      <th>OvertimePay</th>\n",
              "      <th>OtherPay</th>\n",
              "      <th>Benefits</th>\n",
              "      <th>TotalPay</th>\n",
              "      <th>TotalPayBenefits</th>\n",
              "      <th>Year</th>\n",
              "    </tr>\n",
              "  </thead>\n",
              "  <tbody>\n",
              "    <tr>\n",
              "      <th>106874</th>\n",
              "      <td>Villy  Wang</td>\n",
              "      <td>Commissioner 16.700c, No Pay</td>\n",
              "      <td>NaN</td>\n",
              "      <td>0.0</td>\n",
              "      <td>0.00</td>\n",
              "      <td>7959.18</td>\n",
              "      <td>0.00</td>\n",
              "      <td>7959.18</td>\n",
              "      <td>2013</td>\n",
              "    </tr>\n",
              "    <tr>\n",
              "      <th>103852</th>\n",
              "      <td>Robert  Giannini</td>\n",
              "      <td>Painter</td>\n",
              "      <td>NaN</td>\n",
              "      <td>0.0</td>\n",
              "      <td>12933.00</td>\n",
              "      <td>8129.63</td>\n",
              "      <td>12933.00</td>\n",
              "      <td>21062.63</td>\n",
              "      <td>2013</td>\n",
              "    </tr>\n",
              "    <tr>\n",
              "      <th>107888</th>\n",
              "      <td>Summer K Graham</td>\n",
              "      <td>Management Assistant</td>\n",
              "      <td>NaN</td>\n",
              "      <td>0.0</td>\n",
              "      <td>5101.31</td>\n",
              "      <td>0.00</td>\n",
              "      <td>5101.31</td>\n",
              "      <td>5101.31</td>\n",
              "      <td>2013</td>\n",
              "    </tr>\n",
              "    <tr>\n",
              "      <th>106784</th>\n",
              "      <td>Lauren C Slingsby</td>\n",
              "      <td>Asst Engr</td>\n",
              "      <td>NaN</td>\n",
              "      <td>0.0</td>\n",
              "      <td>0.00</td>\n",
              "      <td>7959.18</td>\n",
              "      <td>0.00</td>\n",
              "      <td>7959.18</td>\n",
              "      <td>2013</td>\n",
              "    </tr>\n",
              "    <tr>\n",
              "      <th>109458</th>\n",
              "      <td>Emperatris  Vega-Huerta</td>\n",
              "      <td>Senior Clerk</td>\n",
              "      <td>NaN</td>\n",
              "      <td>0.0</td>\n",
              "      <td>1674.03</td>\n",
              "      <td>0.00</td>\n",
              "      <td>1674.03</td>\n",
              "      <td>1674.03</td>\n",
              "      <td>2013</td>\n",
              "    </tr>\n",
              "    <tr>\n",
              "      <th>90786</th>\n",
              "      <td>Michael C Hill</td>\n",
              "      <td>Deputy Sheriff</td>\n",
              "      <td>NaN</td>\n",
              "      <td>0.0</td>\n",
              "      <td>81299.02</td>\n",
              "      <td>23877.53</td>\n",
              "      <td>81299.02</td>\n",
              "      <td>105176.55</td>\n",
              "      <td>2013</td>\n",
              "    </tr>\n",
              "    <tr>\n",
              "      <th>106869</th>\n",
              "      <td>Scott C Golde</td>\n",
              "      <td>Recreation Director</td>\n",
              "      <td>NaN</td>\n",
              "      <td>0.0</td>\n",
              "      <td>0.00</td>\n",
              "      <td>7959.18</td>\n",
              "      <td>0.00</td>\n",
              "      <td>7959.18</td>\n",
              "      <td>2013</td>\n",
              "    </tr>\n",
              "    <tr>\n",
              "      <th>106922</th>\n",
              "      <td>William  Ortiz-Cartagena</td>\n",
              "      <td>Commissioner 16.700c, No Pay</td>\n",
              "      <td>NaN</td>\n",
              "      <td>0.0</td>\n",
              "      <td>0.00</td>\n",
              "      <td>7959.18</td>\n",
              "      <td>0.00</td>\n",
              "      <td>7959.18</td>\n",
              "      <td>2013</td>\n",
              "    </tr>\n",
              "    <tr>\n",
              "      <th>107582</th>\n",
              "      <td>Marc  Trotz</td>\n",
              "      <td>Manager IV</td>\n",
              "      <td>NaN</td>\n",
              "      <td>0.0</td>\n",
              "      <td>5958.98</td>\n",
              "      <td>0.00</td>\n",
              "      <td>5958.98</td>\n",
              "      <td>5958.98</td>\n",
              "      <td>2013</td>\n",
              "    </tr>\n",
              "    <tr>\n",
              "      <th>106768</th>\n",
              "      <td>Piedad D Morales</td>\n",
              "      <td>Station Agent, Muni Railway</td>\n",
              "      <td>NaN</td>\n",
              "      <td>0.0</td>\n",
              "      <td>0.00</td>\n",
              "      <td>7959.18</td>\n",
              "      <td>0.00</td>\n",
              "      <td>7959.18</td>\n",
              "      <td>2013</td>\n",
              "    </tr>\n",
              "  </tbody>\n",
              "</table>\n",
              "</div>"
            ],
            "text/plain": [
              "                    EmployeeName  ...  Year\n",
              "106874               Villy  Wang  ...  2013\n",
              "103852          Robert  Giannini  ...  2013\n",
              "107888           Summer K Graham  ...  2013\n",
              "106784         Lauren C Slingsby  ...  2013\n",
              "109458   Emperatris  Vega-Huerta  ...  2013\n",
              "90786             Michael C Hill  ...  2013\n",
              "106869             Scott C Golde  ...  2013\n",
              "106922  William  Ortiz-Cartagena  ...  2013\n",
              "107582               Marc  Trotz  ...  2013\n",
              "106768          Piedad D Morales  ...  2013\n",
              "\n",
              "[10 rows x 9 columns]"
            ]
          },
          "metadata": {
            "tags": []
          },
          "execution_count": 151
        }
      ]
    },
    {
      "cell_type": "code",
      "metadata": {
        "id": "3JfaWRdU2QYM",
        "colab_type": "code",
        "outputId": "e830d93c-db1f-4d49-adda-69974081e6ea",
        "colab": {
          "base_uri": "https://localhost:8080/",
          "height": 460
        }
      },
      "source": [
        "sal[sal['Benefits'].isnull()].sample(10)"
      ],
      "execution_count": 0,
      "outputs": [
        {
          "output_type": "execute_result",
          "data": {
            "text/html": [
              "<div>\n",
              "<style scoped>\n",
              "    .dataframe tbody tr th:only-of-type {\n",
              "        vertical-align: middle;\n",
              "    }\n",
              "\n",
              "    .dataframe tbody tr th {\n",
              "        vertical-align: top;\n",
              "    }\n",
              "\n",
              "    .dataframe thead th {\n",
              "        text-align: right;\n",
              "    }\n",
              "</style>\n",
              "<table border=\"1\" class=\"dataframe\">\n",
              "  <thead>\n",
              "    <tr style=\"text-align: right;\">\n",
              "      <th></th>\n",
              "      <th>EmployeeName</th>\n",
              "      <th>JobTitle</th>\n",
              "      <th>BasePay</th>\n",
              "      <th>OvertimePay</th>\n",
              "      <th>OtherPay</th>\n",
              "      <th>Benefits</th>\n",
              "      <th>TotalPay</th>\n",
              "      <th>TotalPayBenefits</th>\n",
              "      <th>Year</th>\n",
              "    </tr>\n",
              "  </thead>\n",
              "  <tbody>\n",
              "    <tr>\n",
              "      <th>4889</th>\n",
              "      <td>LESLIE SMITH</td>\n",
              "      <td>POLICE OFFICER III</td>\n",
              "      <td>112421.42</td>\n",
              "      <td>10626.88</td>\n",
              "      <td>1848.13</td>\n",
              "      <td>NaN</td>\n",
              "      <td>124896.43</td>\n",
              "      <td>124896.43</td>\n",
              "      <td>2011</td>\n",
              "    </tr>\n",
              "    <tr>\n",
              "      <th>7079</th>\n",
              "      <td>RODRIGO PARAS</td>\n",
              "      <td>SENIOR STATIONARY ENGINEER, SEWAGE PLANT</td>\n",
              "      <td>89990.30</td>\n",
              "      <td>14237.12</td>\n",
              "      <td>8814.78</td>\n",
              "      <td>NaN</td>\n",
              "      <td>113042.20</td>\n",
              "      <td>113042.20</td>\n",
              "      <td>2011</td>\n",
              "    </tr>\n",
              "    <tr>\n",
              "      <th>26445</th>\n",
              "      <td>SHU JUAN MA</td>\n",
              "      <td>LIBRARY ASSISTANT</td>\n",
              "      <td>41192.32</td>\n",
              "      <td>0.00</td>\n",
              "      <td>744.33</td>\n",
              "      <td>NaN</td>\n",
              "      <td>41936.65</td>\n",
              "      <td>41936.65</td>\n",
              "      <td>2011</td>\n",
              "    </tr>\n",
              "    <tr>\n",
              "      <th>32082</th>\n",
              "      <td>HUONG NGUYEN</td>\n",
              "      <td>SPECIAL NURSE</td>\n",
              "      <td>8166.80</td>\n",
              "      <td>137.39</td>\n",
              "      <td>328.20</td>\n",
              "      <td>NaN</td>\n",
              "      <td>8632.39</td>\n",
              "      <td>8632.39</td>\n",
              "      <td>2011</td>\n",
              "    </tr>\n",
              "    <tr>\n",
              "      <th>35770</th>\n",
              "      <td>RUI YING ZHANG</td>\n",
              "      <td>CUSTODIAN</td>\n",
              "      <td>476.40</td>\n",
              "      <td>0.00</td>\n",
              "      <td>0.00</td>\n",
              "      <td>NaN</td>\n",
              "      <td>476.40</td>\n",
              "      <td>476.40</td>\n",
              "      <td>2011</td>\n",
              "    </tr>\n",
              "    <tr>\n",
              "      <th>27870</th>\n",
              "      <td>SIU FAASISILA</td>\n",
              "      <td>PERMIT AND CITATION CLERK</td>\n",
              "      <td>31228.73</td>\n",
              "      <td>28.11</td>\n",
              "      <td>0.00</td>\n",
              "      <td>NaN</td>\n",
              "      <td>31256.84</td>\n",
              "      <td>31256.84</td>\n",
              "      <td>2011</td>\n",
              "    </tr>\n",
              "    <tr>\n",
              "      <th>24637</th>\n",
              "      <td>KALSANG DOLMA</td>\n",
              "      <td>MENTAL HEALTH REHABILITATION WORKER</td>\n",
              "      <td>41577.15</td>\n",
              "      <td>5127.96</td>\n",
              "      <td>3520.51</td>\n",
              "      <td>NaN</td>\n",
              "      <td>50225.62</td>\n",
              "      <td>50225.62</td>\n",
              "      <td>2011</td>\n",
              "    </tr>\n",
              "    <tr>\n",
              "      <th>22984</th>\n",
              "      <td>LOI LY</td>\n",
              "      <td>PAYROLL CLERK</td>\n",
              "      <td>52430.63</td>\n",
              "      <td>1885.54</td>\n",
              "      <td>320.00</td>\n",
              "      <td>NaN</td>\n",
              "      <td>54636.17</td>\n",
              "      <td>54636.17</td>\n",
              "      <td>2011</td>\n",
              "    </tr>\n",
              "    <tr>\n",
              "      <th>786</th>\n",
              "      <td>GREGORY BARGE</td>\n",
              "      <td>ATTORNEY (CIVIL/CRIMINAL)</td>\n",
              "      <td>176856.18</td>\n",
              "      <td>0.00</td>\n",
              "      <td>0.00</td>\n",
              "      <td>NaN</td>\n",
              "      <td>176856.18</td>\n",
              "      <td>176856.18</td>\n",
              "      <td>2011</td>\n",
              "    </tr>\n",
              "    <tr>\n",
              "      <th>7614</th>\n",
              "      <td>DIANA HAMPTON</td>\n",
              "      <td>REGISTERED NURSE</td>\n",
              "      <td>97281.42</td>\n",
              "      <td>3998.51</td>\n",
              "      <td>8419.99</td>\n",
              "      <td>NaN</td>\n",
              "      <td>109699.92</td>\n",
              "      <td>109699.92</td>\n",
              "      <td>2011</td>\n",
              "    </tr>\n",
              "  </tbody>\n",
              "</table>\n",
              "</div>"
            ],
            "text/plain": [
              "         EmployeeName  ...  Year\n",
              "4889     LESLIE SMITH  ...  2011\n",
              "7079    RODRIGO PARAS  ...  2011\n",
              "26445     SHU JUAN MA  ...  2011\n",
              "32082    HUONG NGUYEN  ...  2011\n",
              "35770  RUI YING ZHANG  ...  2011\n",
              "27870   SIU FAASISILA  ...  2011\n",
              "24637   KALSANG DOLMA  ...  2011\n",
              "22984          LOI LY  ...  2011\n",
              "786     GREGORY BARGE  ...  2011\n",
              "7614    DIANA HAMPTON  ...  2011\n",
              "\n",
              "[10 rows x 9 columns]"
            ]
          },
          "metadata": {
            "tags": []
          },
          "execution_count": 152
        }
      ]
    },
    {
      "cell_type": "markdown",
      "metadata": {
        "id": "LI8UuvPePm1J",
        "colab_type": "text"
      },
      "source": [
        "**For BasePay and Benefits, it is clear that NaN values are zeroes (from TotalPay and TotalPayBenefits).**\n",
        "\n",
        "**So, simply fill NaN values with 0**"
      ]
    },
    {
      "cell_type": "code",
      "metadata": {
        "id": "CtY8mxaJPm1N",
        "colab_type": "code",
        "colab": {}
      },
      "source": [
        "# Fill NaN values with 0\n",
        "sal['BasePay'].fillna(0, inplace = True)"
      ],
      "execution_count": 0,
      "outputs": []
    },
    {
      "cell_type": "code",
      "metadata": {
        "id": "m_ZHAd7k2k3v",
        "colab_type": "code",
        "colab": {}
      },
      "source": [
        "sal['Benefits'].fillna(0, inplace = True)"
      ],
      "execution_count": 0,
      "outputs": []
    },
    {
      "cell_type": "code",
      "metadata": {
        "id": "6r011Nm-Pm1Q",
        "colab_type": "code",
        "outputId": "5d7871e7-324e-4ad0-8272-d1c04b62373c",
        "colab": {
          "base_uri": "https://localhost:8080/",
          "height": 193
        }
      },
      "source": [
        "# Let check for NaN values again\n",
        "# Your code here\n",
        "sal.isnull().sum()"
      ],
      "execution_count": 0,
      "outputs": [
        {
          "output_type": "execute_result",
          "data": {
            "text/plain": [
              "EmployeeName        0\n",
              "JobTitle            0\n",
              "BasePay             0\n",
              "OvertimePay         0\n",
              "OtherPay            0\n",
              "Benefits            0\n",
              "TotalPay            0\n",
              "TotalPayBenefits    0\n",
              "Year                0\n",
              "dtype: int64"
            ]
          },
          "metadata": {
            "tags": []
          },
          "execution_count": 155
        }
      ]
    },
    {
      "cell_type": "code",
      "metadata": {
        "id": "sx3fpMAB29d_",
        "colab_type": "code",
        "outputId": "2be77f43-4b5d-4507-bcad-91afae6529b5",
        "colab": {
          "base_uri": "https://localhost:8080/",
          "height": 296
        }
      },
      "source": [
        "sal.describe()"
      ],
      "execution_count": 0,
      "outputs": [
        {
          "output_type": "execute_result",
          "data": {
            "text/html": [
              "<div>\n",
              "<style scoped>\n",
              "    .dataframe tbody tr th:only-of-type {\n",
              "        vertical-align: middle;\n",
              "    }\n",
              "\n",
              "    .dataframe tbody tr th {\n",
              "        vertical-align: top;\n",
              "    }\n",
              "\n",
              "    .dataframe thead th {\n",
              "        text-align: right;\n",
              "    }\n",
              "</style>\n",
              "<table border=\"1\" class=\"dataframe\">\n",
              "  <thead>\n",
              "    <tr style=\"text-align: right;\">\n",
              "      <th></th>\n",
              "      <th>BasePay</th>\n",
              "      <th>OvertimePay</th>\n",
              "      <th>OtherPay</th>\n",
              "      <th>Benefits</th>\n",
              "      <th>TotalPay</th>\n",
              "      <th>TotalPayBenefits</th>\n",
              "    </tr>\n",
              "  </thead>\n",
              "  <tbody>\n",
              "    <tr>\n",
              "      <th>count</th>\n",
              "      <td>148650.000000</td>\n",
              "      <td>148650.000000</td>\n",
              "      <td>148650.000000</td>\n",
              "      <td>148650.000000</td>\n",
              "      <td>148650.000000</td>\n",
              "      <td>148650.000000</td>\n",
              "    </tr>\n",
              "    <tr>\n",
              "      <th>mean</th>\n",
              "      <td>66055.506718</td>\n",
              "      <td>5066.059886</td>\n",
              "      <td>3648.767297</td>\n",
              "      <td>18924.742068</td>\n",
              "      <td>74770.333901</td>\n",
              "      <td>93695.075969</td>\n",
              "    </tr>\n",
              "    <tr>\n",
              "      <th>std</th>\n",
              "      <td>42885.919334</td>\n",
              "      <td>11454.380559</td>\n",
              "      <td>8056.601866</td>\n",
              "      <td>17165.229731</td>\n",
              "      <td>50516.196009</td>\n",
              "      <td>62792.497391</td>\n",
              "    </tr>\n",
              "    <tr>\n",
              "      <th>min</th>\n",
              "      <td>-166.010000</td>\n",
              "      <td>-0.010000</td>\n",
              "      <td>-7058.590000</td>\n",
              "      <td>-33.890000</td>\n",
              "      <td>-618.130000</td>\n",
              "      <td>-618.130000</td>\n",
              "    </tr>\n",
              "    <tr>\n",
              "      <th>25%</th>\n",
              "      <td>32798.550000</td>\n",
              "      <td>0.000000</td>\n",
              "      <td>0.000000</td>\n",
              "      <td>0.000000</td>\n",
              "      <td>36169.955000</td>\n",
              "      <td>44073.337500</td>\n",
              "    </tr>\n",
              "    <tr>\n",
              "      <th>50%</th>\n",
              "      <td>64862.310000</td>\n",
              "      <td>0.000000</td>\n",
              "      <td>811.270000</td>\n",
              "      <td>23217.135000</td>\n",
              "      <td>71427.240000</td>\n",
              "      <td>92406.020000</td>\n",
              "    </tr>\n",
              "    <tr>\n",
              "      <th>75%</th>\n",
              "      <td>94609.715000</td>\n",
              "      <td>4658.175000</td>\n",
              "      <td>4236.065000</td>\n",
              "      <td>33468.980000</td>\n",
              "      <td>105842.960000</td>\n",
              "      <td>132877.992500</td>\n",
              "    </tr>\n",
              "    <tr>\n",
              "      <th>max</th>\n",
              "      <td>319275.010000</td>\n",
              "      <td>245131.880000</td>\n",
              "      <td>400184.250000</td>\n",
              "      <td>96570.660000</td>\n",
              "      <td>567595.430000</td>\n",
              "      <td>567595.430000</td>\n",
              "    </tr>\n",
              "  </tbody>\n",
              "</table>\n",
              "</div>"
            ],
            "text/plain": [
              "             BasePay    OvertimePay  ...       TotalPay  TotalPayBenefits\n",
              "count  148650.000000  148650.000000  ...  148650.000000     148650.000000\n",
              "mean    66055.506718    5066.059886  ...   74770.333901      93695.075969\n",
              "std     42885.919334   11454.380559  ...   50516.196009      62792.497391\n",
              "min      -166.010000      -0.010000  ...    -618.130000       -618.130000\n",
              "25%     32798.550000       0.000000  ...   36169.955000      44073.337500\n",
              "50%     64862.310000       0.000000  ...   71427.240000      92406.020000\n",
              "75%     94609.715000    4658.175000  ...  105842.960000     132877.992500\n",
              "max    319275.010000  245131.880000  ...  567595.430000     567595.430000\n",
              "\n",
              "[8 rows x 6 columns]"
            ]
          },
          "metadata": {
            "tags": []
          },
          "execution_count": 156
        }
      ]
    },
    {
      "cell_type": "markdown",
      "metadata": {
        "id": "4OJQFuzhPm1T",
        "colab_type": "text"
      },
      "source": [
        "**Min values of some payments are negative. Let's check it out**"
      ]
    },
    {
      "cell_type": "code",
      "metadata": {
        "id": "DS8XEj1UPm1U",
        "colab_type": "code",
        "outputId": "606f5139-2d65-42df-e9be-b5fe43c49f8f",
        "colab": {
          "base_uri": "https://localhost:8080/",
          "height": 172
        }
      },
      "source": [
        "# Select data that has negative TotalPay or TotalPayBenefits\n",
        "sal[sal['TotalPayBenefits'] < 0]"
      ],
      "execution_count": 0,
      "outputs": [
        {
          "output_type": "execute_result",
          "data": {
            "text/html": [
              "<div>\n",
              "<style scoped>\n",
              "    .dataframe tbody tr th:only-of-type {\n",
              "        vertical-align: middle;\n",
              "    }\n",
              "\n",
              "    .dataframe tbody tr th {\n",
              "        vertical-align: top;\n",
              "    }\n",
              "\n",
              "    .dataframe thead th {\n",
              "        text-align: right;\n",
              "    }\n",
              "</style>\n",
              "<table border=\"1\" class=\"dataframe\">\n",
              "  <thead>\n",
              "    <tr style=\"text-align: right;\">\n",
              "      <th></th>\n",
              "      <th>EmployeeName</th>\n",
              "      <th>JobTitle</th>\n",
              "      <th>BasePay</th>\n",
              "      <th>OvertimePay</th>\n",
              "      <th>OtherPay</th>\n",
              "      <th>Benefits</th>\n",
              "      <th>TotalPay</th>\n",
              "      <th>TotalPayBenefits</th>\n",
              "      <th>Year</th>\n",
              "    </tr>\n",
              "  </thead>\n",
              "  <tbody>\n",
              "    <tr>\n",
              "      <th>110528</th>\n",
              "      <td>Timothy E Gibson</td>\n",
              "      <td>Police Officer 3</td>\n",
              "      <td>0.0</td>\n",
              "      <td>0.0</td>\n",
              "      <td>0.00</td>\n",
              "      <td>-2.73</td>\n",
              "      <td>0.00</td>\n",
              "      <td>-2.73</td>\n",
              "      <td>2013</td>\n",
              "    </tr>\n",
              "    <tr>\n",
              "      <th>110529</th>\n",
              "      <td>Mark E Laherty</td>\n",
              "      <td>Police Officer 3</td>\n",
              "      <td>0.0</td>\n",
              "      <td>0.0</td>\n",
              "      <td>0.00</td>\n",
              "      <td>-8.20</td>\n",
              "      <td>0.00</td>\n",
              "      <td>-8.20</td>\n",
              "      <td>2013</td>\n",
              "    </tr>\n",
              "    <tr>\n",
              "      <th>110530</th>\n",
              "      <td>David P Kucia</td>\n",
              "      <td>Police Officer 3</td>\n",
              "      <td>0.0</td>\n",
              "      <td>0.0</td>\n",
              "      <td>0.00</td>\n",
              "      <td>-33.89</td>\n",
              "      <td>0.00</td>\n",
              "      <td>-33.89</td>\n",
              "      <td>2013</td>\n",
              "    </tr>\n",
              "    <tr>\n",
              "      <th>148653</th>\n",
              "      <td>Joe Lopez</td>\n",
              "      <td>Counselor, Log Cabin Ranch</td>\n",
              "      <td>0.0</td>\n",
              "      <td>0.0</td>\n",
              "      <td>-618.13</td>\n",
              "      <td>0.00</td>\n",
              "      <td>-618.13</td>\n",
              "      <td>-618.13</td>\n",
              "      <td>2014</td>\n",
              "    </tr>\n",
              "  </tbody>\n",
              "</table>\n",
              "</div>"
            ],
            "text/plain": [
              "            EmployeeName                    JobTitle  ...  TotalPayBenefits  Year\n",
              "110528  Timothy E Gibson            Police Officer 3  ...             -2.73  2013\n",
              "110529    Mark E Laherty            Police Officer 3  ...             -8.20  2013\n",
              "110530     David P Kucia            Police Officer 3  ...            -33.89  2013\n",
              "148653         Joe Lopez  Counselor, Log Cabin Ranch  ...           -618.13  2014\n",
              "\n",
              "[4 rows x 9 columns]"
            ]
          },
          "metadata": {
            "tags": []
          },
          "execution_count": 157
        }
      ]
    },
    {
      "cell_type": "markdown",
      "metadata": {
        "id": "9w7-ugL0mQPC",
        "colab_type": "text"
      },
      "source": [
        "**There are only 4 of them, we can safely drop these data**"
      ]
    },
    {
      "cell_type": "code",
      "metadata": {
        "id": "2SfJWB9qPm1X",
        "colab_type": "code",
        "colab": {}
      },
      "source": [
        "# Drop errors\n",
        "sal.drop(labels = sal[sal['TotalPayBenefits'] < 0].index, axis = 0, inplace = True)"
      ],
      "execution_count": 0,
      "outputs": []
    },
    {
      "cell_type": "markdown",
      "metadata": {
        "id": "mPny_KZsPm1Z",
        "colab_type": "text"
      },
      "source": [
        "**Identify any errors or miscoding of variables**"
      ]
    },
    {
      "cell_type": "code",
      "metadata": {
        "id": "9K85MLVzPm1Z",
        "colab_type": "code",
        "outputId": "dd163fcc-178a-4e93-d1d3-fee28393c523",
        "colab": {
          "base_uri": "https://localhost:8080/",
          "height": 52
        }
      },
      "source": [
        "# Check the unique values of Year\n",
        "sal['Year'].unique()"
      ],
      "execution_count": 0,
      "outputs": [
        {
          "output_type": "execute_result",
          "data": {
            "text/plain": [
              "[2011, 2012, 2013, 2014]\n",
              "Categories (4, int64): [2011, 2012, 2013, 2014]"
            ]
          },
          "metadata": {
            "tags": []
          },
          "execution_count": 158
        }
      ]
    },
    {
      "cell_type": "code",
      "metadata": {
        "id": "_JW2GOxIPm1c",
        "colab_type": "code",
        "colab": {}
      },
      "source": [
        "# Apply strip() on EmployeeName and Jobtitle \n",
        "# to remove all the leading and trailing spaces\n",
        "sal['EmployeeName'] = sal['EmployeeName'].str.strip()\n",
        "sal['JobTitle'] = sal['JobTitle'].str.strip()"
      ],
      "execution_count": 0,
      "outputs": []
    },
    {
      "cell_type": "code",
      "metadata": {
        "id": "ZCl0vCkbPm1e",
        "colab_type": "code",
        "outputId": "02327b01-3b79-42e5-9ae8-12427c7096f6",
        "colab": {
          "base_uri": "https://localhost:8080/",
          "height": 34
        }
      },
      "source": [
        "# Check the number of unique value of EmployeeName\n",
        "sal['EmployeeName'].nunique()"
      ],
      "execution_count": 0,
      "outputs": [
        {
          "output_type": "execute_result",
          "data": {
            "text/plain": [
              "110806"
            ]
          },
          "metadata": {
            "tags": []
          },
          "execution_count": 161
        }
      ]
    },
    {
      "cell_type": "code",
      "metadata": {
        "id": "AjoEmOqOPm1i",
        "colab_type": "code",
        "outputId": "e5283ffe-4a37-453d-9b28-e2f76b00ac10",
        "colab": {
          "base_uri": "https://localhost:8080/",
          "height": 34
        }
      },
      "source": [
        "# Check the number of unique value of EmployeeName in lower case\n",
        "sal['EmployeeName'].str.lower().nunique()"
      ],
      "execution_count": 0,
      "outputs": [
        {
          "output_type": "execute_result",
          "data": {
            "text/plain": [
              "80455"
            ]
          },
          "metadata": {
            "tags": []
          },
          "execution_count": 162
        }
      ]
    },
    {
      "cell_type": "code",
      "metadata": {
        "id": "xkHpzbNpPm1l",
        "colab_type": "code",
        "colab": {}
      },
      "source": [
        "# Do the same with JobTitle"
      ],
      "execution_count": 0,
      "outputs": []
    },
    {
      "cell_type": "code",
      "metadata": {
        "id": "-JLeksePPm1r",
        "colab_type": "code",
        "outputId": "d070f1d6-de00-4408-adc0-3b21fcd4746f",
        "colab": {
          "base_uri": "https://localhost:8080/",
          "height": 228
        }
      },
      "source": [
        "# Select the most common name\n",
        "sal['EmployeeName'].value_counts()"
      ],
      "execution_count": 0,
      "outputs": [
        {
          "output_type": "execute_result",
          "data": {
            "text/plain": [
              "Kevin Lee               13\n",
              "William Wong            11\n",
              "Richard Lee             11\n",
              "Steven Lee              11\n",
              "Michael Wong             9\n",
              "                        ..\n",
              "KITTY HUYNH              1\n",
              "David Sands              1\n",
              "Baoling  Zheng           1\n",
              "JEANIE S WONG-SINGCA     1\n",
              "WHITNEY SMITH            1\n",
              "Name: EmployeeName, Length: 110806, dtype: int64"
            ]
          },
          "metadata": {
            "tags": []
          },
          "execution_count": 164
        }
      ]
    },
    {
      "cell_type": "code",
      "metadata": {
        "id": "_UWBbaxa6aHC",
        "colab_type": "code",
        "outputId": "2ac05953-5473-4f35-90b9-8aeb328500a5",
        "colab": {
          "base_uri": "https://localhost:8080/",
          "height": 228
        }
      },
      "source": [
        "sal['EmployeeName'].str.lower().value_counts()"
      ],
      "execution_count": 0,
      "outputs": [
        {
          "output_type": "execute_result",
          "data": {
            "text/plain": [
              "kevin lee              22\n",
              "richard lee            19\n",
              "william wong           18\n",
              "steven lee             18\n",
              "david wong             16\n",
              "                       ..\n",
              "ramonik johal           1\n",
              "anamaria m birdsong     1\n",
              "james t ramsey          1\n",
              "christine  liu          1\n",
              "wesley chow             1\n",
              "Name: EmployeeName, Length: 80455, dtype: int64"
            ]
          },
          "metadata": {
            "tags": []
          },
          "execution_count": 165
        }
      ]
    },
    {
      "cell_type": "markdown",
      "metadata": {
        "id": "zB_Fu1c9Pm1u",
        "colab_type": "text"
      },
      "source": [
        "*The names are duplicated because the data describes one person in different years or just because there are people who have same name. It's ok so we only need to uppercase all of the name to eliminate case sensitive.*\n",
        "\n",
        "*But there are definitely some duplication of Job Title, example `Police Officer 3` and `POLICE OFFICER III`*"
      ]
    },
    {
      "cell_type": "code",
      "metadata": {
        "id": "Ufw8QW-6Pm1u",
        "colab_type": "code",
        "outputId": "fa268fdb-1240-431f-ee36-08847786fc3c",
        "colab": {
          "base_uri": "https://localhost:8080/",
          "height": 105
        }
      },
      "source": [
        "# Replace Name and Job Title with its uppercase\n",
        "sal['JobTitle'].str.lower().unique()"
      ],
      "execution_count": 0,
      "outputs": [
        {
          "output_type": "execute_result",
          "data": {
            "text/plain": [
              "array(['general manager-metropolitan transit authority',\n",
              "       'captain iii (police department)',\n",
              "       'wire rope cable maintenance mechanic', ...,\n",
              "       'sr cnselor, juv hall (sfers)', 'forensic toxicologist supervis',\n",
              "       'conversion'], dtype=object)"
            ]
          },
          "metadata": {
            "tags": []
          },
          "execution_count": 169
        }
      ]
    },
    {
      "cell_type": "code",
      "metadata": {
        "id": "heSYToXzPm1x",
        "colab_type": "code",
        "outputId": "0562f6a3-5d48-49a5-979f-5dd25887b228",
        "colab": {
          "base_uri": "https://localhost:8080/",
          "height": 1000
        }
      },
      "source": [
        "# Write a regular expression to select JobTitle that ends with a digit\n",
        "sal[sal['JobTitle'].str.contains('\\d$', regex = True)]['JobTitle'].unique()"
      ],
      "execution_count": 0,
      "outputs": [
        {
          "output_type": "execute_result",
          "data": {
            "text/plain": [
              "array(['Captain 3', 'Assistant Deputy Chief 2', 'Transit Manager 2',\n",
              "       'Deputy Chief 3', 'Lieutenant 3', 'Commander 3', 'Inspector 3',\n",
              "       'Police Officer 3', 'Special Assistant 22', 'Sergeant 3',\n",
              "       'Assistant Chief Attorney 2', 'Police Officer 2',\n",
              "       'Assistant Chief Attorney 1', 'Project Manager 4', 'Sergeant 2',\n",
              "       'Electrical Trnst Shop Sprv 1', 'Fire Safety Inspector 2',\n",
              "       'Transmission Line Supervisor 1', 'Automotive Mechanic Sprv 1',\n",
              "       'Assistant Inspector 3', 'Project Manager 3',\n",
              "       'Special Assistant 21', 'Architectural Associate 1',\n",
              "       'Landscape Architect Assoc 2', 'Utility Plumber Supervisor 2',\n",
              "       'Assistant Inspector 2', 'Communications Line Wrk Sprv 2',\n",
              "       'Utility Plumber Supervisor 1', 'Lieutenant 2',\n",
              "       'Transit Power Line Sprv1', 'Automotive Trnst Shop Sprv 1',\n",
              "       'Trnst Power Line Wrk Sprv 2', 'Electrical Trnst Mech Sprv 1',\n",
              "       'Project Manager 2', 'Inspector 2', 'Special Assistant 19',\n",
              "       'Electrician Supervisor 1', 'Track Maint Wrk Sprv 1',\n",
              "       'Asst Dir Clinical Svcs 2', 'Architectural Associate 2',\n",
              "       'Power Generation Technician 2', 'Special Assistant 16',\n",
              "       'Planner 5', 'Plumber Supervisor 1', 'Landscape Architect Assoc 1',\n",
              "       'Electrician Supervisor 2', 'Transit Paint Shop Sprv1',\n",
              "       'Auto Body & Fender Wrk Sprv 1', 'Locksmith Supervisor 1',\n",
              "       'Contract Compliance Officer 2', 'Communication Line Sprv1',\n",
              "       'Plumber Supervisor 2', 'Planner 4',\n",
              "       'Health Program Coordinator 3', 'Street Repair Supervisor 2',\n",
              "       'IS Administrator 3', 'Automotive Machinist Sprv 1',\n",
              "       'Asst Dir of Clinical Svcs 1', 'Transit Planner 4',\n",
              "       'Project Manager 1', 'Asst Forensic Toxicologist 1',\n",
              "       'Carpenter Supervisor 2', 'Maintenance Machinist Sprv 1',\n",
              "       'Sheet Metal Supervisor 1', 'Employment & Training Spec 6',\n",
              "       'Transit Manager 1', 'Special Assistant 15',\n",
              "       'Carpenter Supervisor 1', 'IS Administrator 1',\n",
              "       'Sr Community Dev Spec 2', 'Water & Power Maint Sprv 1',\n",
              "       \"Worker's Comp Supervisor 1\", 'General Laborer Supervisor 1',\n",
              "       'Electric Motor Repair Sprv 1', 'Piledriver Supervisor 1',\n",
              "       'Planner 3', 'Painter Supervisor 1', 'Sr. Community Devl Spc 1',\n",
              "       'Bd/Comm Secretary 3', 'Cement Finisher Supervisor 1',\n",
              "       'Power Plant Supervisor 1', 'Librarian 3',\n",
              "       'Airport Property Specialist 1', 'Ornamental Iron Wrk Sprv 1',\n",
              "       'Asphalt Plant Supervisor 1', 'Curator 4', 'IS Administrator 2',\n",
              "       'Contract Compliance Officer 1', 'Epidemiologist 2',\n",
              "       'Employment & Training Spec 5', 'Glazier Supervisor 1',\n",
              "       'Counselor 2', 'Engineering Associate 2',\n",
              "       'Asphalt Finisher Supervisor 1', 'Employment & Training Spec 3',\n",
              "       'Criminal Justice Specialist 2', 'Emp & Training Spec 4',\n",
              "       'Librarian 2', 'Victim/Witness Investigator 3',\n",
              "       'Power Generation Technician 1', 'Executive Secretary 3',\n",
              "       'Fingerprint Technician 3', 'Roofer Supervisor 1',\n",
              "       'Executive Secretary 2', 'Specialist in Aging 2',\n",
              "       'Health Program Coordinator 2', 'Communications Dispatcher 2',\n",
              "       'Parking Meter Repairer Sprv 1', 'Planner 2', 'Transit Planner 2',\n",
              "       'Engineering Associate 1', 'Librarian 1',\n",
              "       'Architectural Assistant 2', 'Secretary 1', 'Porter Supervisor 1',\n",
              "       'Legal Secretary 2', 'Wharfinger 2', 'Curator 3',\n",
              "       'Emp & Training Spec 2', 'Environmental Hlth Tech 2',\n",
              "       'Health Worker 4', 'Library Technical Assistant 2',\n",
              "       'Victim/Witness Investigator 2', 'Epidemiologist 1',\n",
              "       'Legal Secretary 1', 'Health Program Coordinator 1',\n",
              "       'Fingerprint Technician 2', 'Architectural Assistant 1',\n",
              "       'Executive Secretary 1', 'Curator 2',\n",
              "       'Library Technical Assistant 1', 'Secretary 2',\n",
              "       'Health Care Billing Clerk 2', 'Health Worker 3',\n",
              "       'Health Worker 2', 'Planner 1', 'Employment & Training Spec 1',\n",
              "       'Electroencephalograph Tech 1', 'Environmental Hlth Tech 1',\n",
              "       'Victim/Witness Investigator 1', 'Health Worker 1',\n",
              "       'Court Alternative Specialist 1', 'Communications Dispatcher 1',\n",
              "       'Orthopedic Technician 2', 'Admin Analyst 3',\n",
              "       'Health Care Billing Clerk 1', 'Fingerprint Technician 1',\n",
              "       'Curator 1', 'Cashier 1', 'Cashier 2',\n",
              "       'Sheet Metal Wrk Supervisor 2', 'Special Assistant 3',\n",
              "       'Special Assistant 14', 'Painter Supervisor 2', 'Deputy Sheriff 1',\n",
              "       'Wharfinger 1', 'Special Assistant 10', 'Special Assistant 13',\n",
              "       'Orthopedic Technician 1', 'Special Assistant 18',\n",
              "       'Special Assistant 8', 'Electrical Transit Shop Sprv 1',\n",
              "       'Cement Finisher Supervisor 2', 'Water Meter Shop Supervisor 1',\n",
              "       'Special Assistant 11', 'Cashier 3'], dtype=object)"
            ]
          },
          "metadata": {
            "tags": []
          },
          "execution_count": 167
        }
      ]
    },
    {
      "cell_type": "code",
      "metadata": {
        "id": "xaYYbPRPPm10",
        "colab_type": "code",
        "outputId": "0c050cea-065f-48f3-e508-ad762fc88765",
        "colab": {
          "base_uri": "https://localhost:8080/",
          "height": 87
        }
      },
      "source": [
        "# Write a regex that count all type of POLICE OFFICER\n",
        "sal[sal['JobTitle'].str.lower().str.contains('police officer', regex = True)]['JobTitle'].unique()"
      ],
      "execution_count": 0,
      "outputs": [
        {
          "output_type": "execute_result",
          "data": {
            "text/plain": [
              "array(['POLICE OFFICER III', 'POLICE OFFICER I', 'POLICE OFFICER II',\n",
              "       'INSTITUTIONAL POLICE OFFICER', 'Police Officer 3',\n",
              "       'Police Officer 2', 'Police Officer',\n",
              "       'Institutional Police Officer'], dtype=object)"
            ]
          },
          "metadata": {
            "tags": []
          },
          "execution_count": 166
        }
      ]
    },
    {
      "cell_type": "code",
      "metadata": {
        "id": "V1eYSjo0Pm12",
        "colab_type": "code",
        "cellView": "code",
        "outputId": "35853fd6-d642-49b9-8a0b-d5e98bb95c07",
        "colab": {
          "base_uri": "https://localhost:8080/",
          "height": 34
        }
      },
      "source": [
        "#@title Default title text\n",
        "# This is a simple function to transform roman number\n",
        "def transform_roman(s):\n",
        "    d = {'I':1, 'II':2, 'III':3, 'IV':4, 'V':5, 'VI':6, 'VII':7, 'VIII':8, 'IX':9, 'X':10, \n",
        "        'XI':11, 'XII':12, 'XIII':13, 'XIV':14, 'XV':15, 'XVI':16, 'XVII':17, 'XVIII':18, 'XIX':19, 'XX':20}\n",
        "    \n",
        "    s_split = s.split()\n",
        "    if s_split[-1] in d.keys():\n",
        "        s_split[-1] = str(d[s_split[-1]])\n",
        "    return ' '.join(s_split)\n",
        "\n",
        "# Test it out\n",
        "transform_roman('POLICE OFFICER I')"
      ],
      "execution_count": 0,
      "outputs": [
        {
          "output_type": "execute_result",
          "data": {
            "text/plain": [
              "'POLICE OFFICER 1'"
            ]
          },
          "metadata": {
            "tags": []
          },
          "execution_count": 170
        }
      ]
    },
    {
      "cell_type": "code",
      "metadata": {
        "id": "2PX5dFaxPm14",
        "colab_type": "code",
        "colab": {}
      },
      "source": [
        "# Apply the function above to the column JobTitle\n",
        "sal['JobTitle'] = sal['JobTitle'].apply(transform_roman)"
      ],
      "execution_count": 0,
      "outputs": []
    },
    {
      "cell_type": "markdown",
      "metadata": {
        "id": "Ikd1t-v3Pm17",
        "colab_type": "text"
      },
      "source": [
        "### Step 4 - EDA"
      ]
    },
    {
      "cell_type": "markdown",
      "metadata": {
        "id": "-dEBLw1uPm1-",
        "colab_type": "text"
      },
      "source": [
        "**Plot categorical data**"
      ]
    },
    {
      "cell_type": "code",
      "metadata": {
        "id": "_N-UF331Pm1-",
        "colab_type": "code",
        "outputId": "6db8d8ab-4d4b-48dd-ee11-8be0dd3d6e25",
        "colab": {
          "base_uri": "https://localhost:8080/",
          "height": 301
        }
      },
      "source": [
        "sns.countplot(x='Year', data=sal)\n",
        "# What can you tell about this?"
      ],
      "execution_count": 0,
      "outputs": [
        {
          "output_type": "execute_result",
          "data": {
            "text/plain": [
              "<matplotlib.axes._subplots.AxesSubplot at 0x7f89333be780>"
            ]
          },
          "metadata": {
            "tags": []
          },
          "execution_count": 146
        },
        {
          "output_type": "display_data",
          "data": {
            "image/png": "[encoded data removed]",
            "text/plain": [
              "<Figure size 432x288 with 1 Axes>"
            ]
          },
          "metadata": {
            "tags": []
          }
        }
      ]
    },
    {
      "cell_type": "markdown",
      "metadata": {
        "id": "pGvAB5cNPm2D",
        "colab_type": "text"
      },
      "source": [
        "**Top 5 common job titles**"
      ]
    },
    {
      "cell_type": "code",
      "metadata": {
        "id": "3LrHbjpHPm2D",
        "colab_type": "code",
        "outputId": "896ee5d2-1f5b-46b5-98e3-d50c1ec9601d",
        "colab": {
          "base_uri": "https://localhost:8080/",
          "height": 282
        }
      },
      "source": [
        "# Top 5 common job titles\n",
        "top5job = sal['JobTitle'].value_counts().head(5)\n",
        "top5job.plot(kind='barh')"
      ],
      "execution_count": 0,
      "outputs": [
        {
          "output_type": "execute_result",
          "data": {
            "text/plain": [
              "<matplotlib.axes._subplots.AxesSubplot at 0x7f8930abd1d0>"
            ]
          },
          "metadata": {
            "tags": []
          },
          "execution_count": 178
        },
        {
          "output_type": "display_data",
          "data": {
            "image/png": "[encoded data removed]",
            "text/plain": [
              "<Figure size 432x288 with 1 Axes>"
            ]
          },
          "metadata": {
            "tags": []
          }
        }
      ]
    },
    {
      "cell_type": "markdown",
      "metadata": {
        "id": "JZvwnGZ-Pm2F",
        "colab_type": "text"
      },
      "source": [
        "**Distribution of numerical data**"
      ]
    },
    {
      "cell_type": "code",
      "metadata": {
        "id": "UnTkDE4NPm2F",
        "colab_type": "code",
        "outputId": "7ca5ae03-1712-41a6-f147-f31465fc9c39",
        "colab": {
          "base_uri": "https://localhost:8080/",
          "height": 301
        }
      },
      "source": [
        "# Distribution of TotalPayBenefits\n",
        "sns.distplot(sal['TotalPayBenefits'], kde = False)"
      ],
      "execution_count": 0,
      "outputs": [
        {
          "output_type": "execute_result",
          "data": {
            "text/plain": [
              "<matplotlib.axes._subplots.AxesSubplot at 0x7f89320dcfd0>"
            ]
          },
          "metadata": {
            "tags": []
          },
          "execution_count": 186
        },
        {
          "output_type": "display_data",
          "data": {
            "image/png": "[encoded data removed]",
            "text/plain": [
              "<Figure size 432x288 with 1 Axes>"
            ]
          },
          "metadata": {
            "tags": []
          }
        }
      ]
    },
    {
      "cell_type": "code",
      "metadata": {
        "id": "rS3lsmV4Pm2J",
        "colab_type": "code",
        "outputId": "5c8c02a6-1988-4d5d-d990-4011a42d6f60",
        "colab": {
          "base_uri": "https://localhost:8080/",
          "height": 338
        }
      },
      "source": [
        "# Histogram is sensitive with the bins\n",
        "plt.hist(sal['TotalPayBenefits'], bins=5)"
      ],
      "execution_count": 0,
      "outputs": [
        {
          "output_type": "execute_result",
          "data": {
            "text/plain": [
              "(array([9.5724e+04, 4.9055e+04, 3.7620e+03, 1.0100e+02, 4.0000e+00]),\n",
              " array([     0.   , 113519.086, 227038.172, 340557.258, 454076.344,\n",
              "        567595.43 ]),\n",
              " <a list of 5 Patch objects>)"
            ]
          },
          "metadata": {
            "tags": []
          },
          "execution_count": 196
        },
        {
          "output_type": "display_data",
          "data": {
            "image/png": "[encoded data removed]",
            "text/plain": [
              "<Figure size 432x288 with 1 Axes>"
            ]
          },
          "metadata": {
            "tags": []
          }
        }
      ]
    },
    {
      "cell_type": "markdown",
      "metadata": {
        "id": "AYQl8xQstFcl",
        "colab_type": "text"
      },
      "source": [
        "**Analize richest people**"
      ]
    },
    {
      "cell_type": "code",
      "metadata": {
        "id": "wnr3XVJYPm2U",
        "colab_type": "code",
        "outputId": "4ca0b0cf-a304-43e1-e7b0-4e58a07b9585",
        "colab": {
          "base_uri": "https://localhost:8080/",
          "height": 503
        }
      },
      "source": [
        "# Select people that have TotalPayBenefit greater than $300k\n",
        "sal[sal['TotalPayBenefits'] > 300000]"
      ],
      "execution_count": 0,
      "outputs": [
        {
          "output_type": "execute_result",
          "data": {
            "text/html": [
              "<div>\n",
              "<style scoped>\n",
              "    .dataframe tbody tr th:only-of-type {\n",
              "        vertical-align: middle;\n",
              "    }\n",
              "\n",
              "    .dataframe tbody tr th {\n",
              "        vertical-align: top;\n",
              "    }\n",
              "\n",
              "    .dataframe thead th {\n",
              "        text-align: right;\n",
              "    }\n",
              "</style>\n",
              "<table border=\"1\" class=\"dataframe\">\n",
              "  <thead>\n",
              "    <tr style=\"text-align: right;\">\n",
              "      <th></th>\n",
              "      <th>EmployeeName</th>\n",
              "      <th>JobTitle</th>\n",
              "      <th>BasePay</th>\n",
              "      <th>OvertimePay</th>\n",
              "      <th>OtherPay</th>\n",
              "      <th>Benefits</th>\n",
              "      <th>TotalPay</th>\n",
              "      <th>TotalPayBenefits</th>\n",
              "      <th>Year</th>\n",
              "    </tr>\n",
              "  </thead>\n",
              "  <tbody>\n",
              "    <tr>\n",
              "      <th>0</th>\n",
              "      <td>NATHANIEL FORD</td>\n",
              "      <td>GENERAL MANAGER-METROPOLITAN TRANSIT AUTHORITY</td>\n",
              "      <td>167411.18</td>\n",
              "      <td>0.00</td>\n",
              "      <td>400184.25</td>\n",
              "      <td>0.00</td>\n",
              "      <td>567595.43</td>\n",
              "      <td>567595.43</td>\n",
              "      <td>2011</td>\n",
              "    </tr>\n",
              "    <tr>\n",
              "      <th>1</th>\n",
              "      <td>GARY JIMENEZ</td>\n",
              "      <td>CAPTAIN III (POLICE DEPARTMENT)</td>\n",
              "      <td>155966.02</td>\n",
              "      <td>245131.88</td>\n",
              "      <td>137811.38</td>\n",
              "      <td>0.00</td>\n",
              "      <td>538909.28</td>\n",
              "      <td>538909.28</td>\n",
              "      <td>2011</td>\n",
              "    </tr>\n",
              "    <tr>\n",
              "      <th>2</th>\n",
              "      <td>ALBERT PARDINI</td>\n",
              "      <td>CAPTAIN III (POLICE DEPARTMENT)</td>\n",
              "      <td>212739.13</td>\n",
              "      <td>106088.18</td>\n",
              "      <td>16452.60</td>\n",
              "      <td>0.00</td>\n",
              "      <td>335279.91</td>\n",
              "      <td>335279.91</td>\n",
              "      <td>2011</td>\n",
              "    </tr>\n",
              "    <tr>\n",
              "      <th>3</th>\n",
              "      <td>CHRISTOPHER CHONG</td>\n",
              "      <td>WIRE ROPE CABLE MAINTENANCE MECHANIC</td>\n",
              "      <td>77916.00</td>\n",
              "      <td>56120.71</td>\n",
              "      <td>198306.90</td>\n",
              "      <td>0.00</td>\n",
              "      <td>332343.61</td>\n",
              "      <td>332343.61</td>\n",
              "      <td>2011</td>\n",
              "    </tr>\n",
              "    <tr>\n",
              "      <th>4</th>\n",
              "      <td>PATRICK GARDNER</td>\n",
              "      <td>DEPUTY CHIEF OF DEPARTMENT,(FIRE DEPARTMENT)</td>\n",
              "      <td>134401.60</td>\n",
              "      <td>9737.00</td>\n",
              "      <td>182234.59</td>\n",
              "      <td>0.00</td>\n",
              "      <td>326373.19</td>\n",
              "      <td>326373.19</td>\n",
              "      <td>2011</td>\n",
              "    </tr>\n",
              "    <tr>\n",
              "      <th>...</th>\n",
              "      <td>...</td>\n",
              "      <td>...</td>\n",
              "      <td>...</td>\n",
              "      <td>...</td>\n",
              "      <td>...</td>\n",
              "      <td>...</td>\n",
              "      <td>...</td>\n",
              "      <td>...</td>\n",
              "      <td>...</td>\n",
              "    </tr>\n",
              "    <tr>\n",
              "      <th>110617</th>\n",
              "      <td>Jay K Dowke</td>\n",
              "      <td>Police Officer 3</td>\n",
              "      <td>100148.75</td>\n",
              "      <td>15716.42</td>\n",
              "      <td>152037.57</td>\n",
              "      <td>33847.07</td>\n",
              "      <td>267902.74</td>\n",
              "      <td>301749.81</td>\n",
              "      <td>2014</td>\n",
              "    </tr>\n",
              "    <tr>\n",
              "      <th>110618</th>\n",
              "      <td>Edward Y Chu</td>\n",
              "      <td>Lieutenant, Fire Suppression</td>\n",
              "      <td>129817.24</td>\n",
              "      <td>108123.01</td>\n",
              "      <td>16979.29</td>\n",
              "      <td>46748.39</td>\n",
              "      <td>254919.54</td>\n",
              "      <td>301667.93</td>\n",
              "      <td>2014</td>\n",
              "    </tr>\n",
              "    <tr>\n",
              "      <th>110619</th>\n",
              "      <td>Matthew J Mcnaughton</td>\n",
              "      <td>Asst Chf of Dept (Fire Dept)</td>\n",
              "      <td>205480.80</td>\n",
              "      <td>0.00</td>\n",
              "      <td>29794.80</td>\n",
              "      <td>65881.22</td>\n",
              "      <td>235275.60</td>\n",
              "      <td>301156.82</td>\n",
              "      <td>2014</td>\n",
              "    </tr>\n",
              "    <tr>\n",
              "      <th>110620</th>\n",
              "      <td>Madonna P Valencia</td>\n",
              "      <td>Manager, Dept Public Health</td>\n",
              "      <td>201305.83</td>\n",
              "      <td>0.00</td>\n",
              "      <td>37292.77</td>\n",
              "      <td>62477.06</td>\n",
              "      <td>238598.60</td>\n",
              "      <td>301075.66</td>\n",
              "      <td>2014</td>\n",
              "    </tr>\n",
              "    <tr>\n",
              "      <th>110621</th>\n",
              "      <td>Ross B Mirkarimi</td>\n",
              "      <td>Sheriff (SFERS)</td>\n",
              "      <td>215629.23</td>\n",
              "      <td>0.00</td>\n",
              "      <td>12937.66</td>\n",
              "      <td>71962.27</td>\n",
              "      <td>228566.89</td>\n",
              "      <td>300529.16</td>\n",
              "      <td>2014</td>\n",
              "    </tr>\n",
              "  </tbody>\n",
              "</table>\n",
              "<p>289 rows × 9 columns</p>\n",
              "</div>"
            ],
            "text/plain": [
              "                EmployeeName  ...  Year\n",
              "0             NATHANIEL FORD  ...  2011\n",
              "1               GARY JIMENEZ  ...  2011\n",
              "2             ALBERT PARDINI  ...  2011\n",
              "3          CHRISTOPHER CHONG  ...  2011\n",
              "4            PATRICK GARDNER  ...  2011\n",
              "...                      ...  ...   ...\n",
              "110617           Jay K Dowke  ...  2014\n",
              "110618          Edward Y Chu  ...  2014\n",
              "110619  Matthew J Mcnaughton  ...  2014\n",
              "110620    Madonna P Valencia  ...  2014\n",
              "110621      Ross B Mirkarimi  ...  2014\n",
              "\n",
              "[289 rows x 9 columns]"
            ]
          },
          "metadata": {
            "tags": []
          },
          "execution_count": 197
        }
      ]
    },
    {
      "cell_type": "code",
      "metadata": {
        "id": "Qc4DYmaNPm2Y",
        "colab_type": "code",
        "outputId": "8f01dcc0-89ab-479c-b83c-b19e610a993c",
        "colab": {
          "base_uri": "https://localhost:8080/",
          "height": 34
        }
      },
      "source": [
        "def split_income_type(n):\n",
        "    if n < 1000:\n",
        "        return 'Retired'\n",
        "    elif n < 50000:\n",
        "        return 'Low Income'\n",
        "    elif n < 150000:\n",
        "        return 'Midrange'\n",
        "    elif n < 250000:\n",
        "        return 'High Income'\n",
        "    else:\n",
        "        return 'Millionaire'\n",
        "\n",
        "split_income_type(300000)"
      ],
      "execution_count": 0,
      "outputs": [
        {
          "output_type": "execute_result",
          "data": {
            "text/plain": [
              "'Millionaire'"
            ]
          },
          "metadata": {
            "tags": []
          },
          "execution_count": 198
        }
      ]
    },
    {
      "cell_type": "code",
      "metadata": {
        "id": "ndS0LG9_tX0Y",
        "colab_type": "code",
        "colab": {}
      },
      "source": [
        "# Apply the function above to create a new column name IncomeType from TotalPayBenefits\n",
        "sal['IncomeType'] = sal['TotalPayBenefits'].apply(split_income_type)"
      ],
      "execution_count": 0,
      "outputs": []
    },
    {
      "cell_type": "code",
      "metadata": {
        "id": "Mo_LX-nylCpB",
        "colab_type": "code",
        "outputId": "3611a43d-a3d9-4740-d6eb-00d44c596ea9",
        "colab": {
          "base_uri": "https://localhost:8080/",
          "height": 443
        }
      },
      "source": [
        "sal.sample(10)"
      ],
      "execution_count": 0,
      "outputs": [
        {
          "output_type": "execute_result",
          "data": {
            "text/html": [
              "<div>\n",
              "<style scoped>\n",
              "    .dataframe tbody tr th:only-of-type {\n",
              "        vertical-align: middle;\n",
              "    }\n",
              "\n",
              "    .dataframe tbody tr th {\n",
              "        vertical-align: top;\n",
              "    }\n",
              "\n",
              "    .dataframe thead th {\n",
              "        text-align: right;\n",
              "    }\n",
              "</style>\n",
              "<table border=\"1\" class=\"dataframe\">\n",
              "  <thead>\n",
              "    <tr style=\"text-align: right;\">\n",
              "      <th></th>\n",
              "      <th>EmployeeName</th>\n",
              "      <th>JobTitle</th>\n",
              "      <th>BasePay</th>\n",
              "      <th>OvertimePay</th>\n",
              "      <th>OtherPay</th>\n",
              "      <th>Benefits</th>\n",
              "      <th>TotalPay</th>\n",
              "      <th>TotalPayBenefits</th>\n",
              "      <th>Year</th>\n",
              "      <th>IncomeType</th>\n",
              "    </tr>\n",
              "  </thead>\n",
              "  <tbody>\n",
              "    <tr>\n",
              "      <th>145322</th>\n",
              "      <td>Heather E Gutierres</td>\n",
              "      <td>Eligibility Worker</td>\n",
              "      <td>6276.49</td>\n",
              "      <td>0.00</td>\n",
              "      <td>0.00</td>\n",
              "      <td>62.78</td>\n",
              "      <td>6276.49</td>\n",
              "      <td>6339.27</td>\n",
              "      <td>2014</td>\n",
              "      <td>Low Income</td>\n",
              "    </tr>\n",
              "    <tr>\n",
              "      <th>114650</th>\n",
              "      <td>Raymond E Driscoll</td>\n",
              "      <td>IS Business Analyst-Principal</td>\n",
              "      <td>125662.01</td>\n",
              "      <td>0.00</td>\n",
              "      <td>17420.56</td>\n",
              "      <td>40703.71</td>\n",
              "      <td>143082.57</td>\n",
              "      <td>183786.28</td>\n",
              "      <td>2014</td>\n",
              "      <td>High Income</td>\n",
              "    </tr>\n",
              "    <tr>\n",
              "      <th>93425</th>\n",
              "      <td>David V Kelly</td>\n",
              "      <td>Administrative Analyst</td>\n",
              "      <td>67235.40</td>\n",
              "      <td>0.00</td>\n",
              "      <td>0.00</td>\n",
              "      <td>27615.52</td>\n",
              "      <td>67235.40</td>\n",
              "      <td>94850.92</td>\n",
              "      <td>2013</td>\n",
              "      <td>Midrange</td>\n",
              "    </tr>\n",
              "    <tr>\n",
              "      <th>125976</th>\n",
              "      <td>Richard D Bridges Jr</td>\n",
              "      <td>Transit Operator</td>\n",
              "      <td>65590.03</td>\n",
              "      <td>8098.87</td>\n",
              "      <td>4084.86</td>\n",
              "      <td>35890.84</td>\n",
              "      <td>77773.76</td>\n",
              "      <td>113664.60</td>\n",
              "      <td>2014</td>\n",
              "      <td>Midrange</td>\n",
              "    </tr>\n",
              "    <tr>\n",
              "      <th>41974</th>\n",
              "      <td>Myra Basa</td>\n",
              "      <td>Registered Nurse</td>\n",
              "      <td>106539.45</td>\n",
              "      <td>2433.65</td>\n",
              "      <td>16166.61</td>\n",
              "      <td>39774.46</td>\n",
              "      <td>125139.71</td>\n",
              "      <td>164914.17</td>\n",
              "      <td>2012</td>\n",
              "      <td>High Income</td>\n",
              "    </tr>\n",
              "    <tr>\n",
              "      <th>141342</th>\n",
              "      <td>Ingrid J Thompson</td>\n",
              "      <td>Special Nurse</td>\n",
              "      <td>18379.18</td>\n",
              "      <td>0.00</td>\n",
              "      <td>977.05</td>\n",
              "      <td>3931.45</td>\n",
              "      <td>19356.23</td>\n",
              "      <td>23287.68</td>\n",
              "      <td>2014</td>\n",
              "      <td>Low Income</td>\n",
              "    </tr>\n",
              "    <tr>\n",
              "      <th>8288</th>\n",
              "      <td>KANCHANA GADDIPATI</td>\n",
              "      <td>IS BUSINESS ANALYST - PRINCIPAL</td>\n",
              "      <td>105931.20</td>\n",
              "      <td>0.00</td>\n",
              "      <td>0.00</td>\n",
              "      <td>0.00</td>\n",
              "      <td>105931.20</td>\n",
              "      <td>105931.20</td>\n",
              "      <td>2011</td>\n",
              "      <td>Midrange</td>\n",
              "    </tr>\n",
              "    <tr>\n",
              "      <th>64840</th>\n",
              "      <td>Christian Weinman</td>\n",
              "      <td>Statnry Eng Water Treat Plant</td>\n",
              "      <td>27990.03</td>\n",
              "      <td>0.00</td>\n",
              "      <td>2380.06</td>\n",
              "      <td>8115.87</td>\n",
              "      <td>30370.09</td>\n",
              "      <td>38485.96</td>\n",
              "      <td>2012</td>\n",
              "      <td>Low Income</td>\n",
              "    </tr>\n",
              "    <tr>\n",
              "      <th>140351</th>\n",
              "      <td>Lee A Martin</td>\n",
              "      <td>Permit and Citation Clerk</td>\n",
              "      <td>21454.92</td>\n",
              "      <td>1570.19</td>\n",
              "      <td>0.00</td>\n",
              "      <td>8708.51</td>\n",
              "      <td>23025.11</td>\n",
              "      <td>31733.62</td>\n",
              "      <td>2014</td>\n",
              "      <td>Low Income</td>\n",
              "    </tr>\n",
              "    <tr>\n",
              "      <th>100749</th>\n",
              "      <td>Margarie  Davis</td>\n",
              "      <td>Special Nurse</td>\n",
              "      <td>48646.78</td>\n",
              "      <td>1368.08</td>\n",
              "      <td>3038.70</td>\n",
              "      <td>0.00</td>\n",
              "      <td>53053.56</td>\n",
              "      <td>53053.56</td>\n",
              "      <td>2013</td>\n",
              "      <td>Midrange</td>\n",
              "    </tr>\n",
              "  </tbody>\n",
              "</table>\n",
              "</div>"
            ],
            "text/plain": [
              "                EmployeeName  ...   IncomeType\n",
              "145322   Heather E Gutierres  ...   Low Income\n",
              "114650    Raymond E Driscoll  ...  High Income\n",
              "93425          David V Kelly  ...     Midrange\n",
              "125976  Richard D Bridges Jr  ...     Midrange\n",
              "41974              Myra Basa  ...  High Income\n",
              "141342     Ingrid J Thompson  ...   Low Income\n",
              "8288      KANCHANA GADDIPATI  ...     Midrange\n",
              "64840      Christian Weinman  ...   Low Income\n",
              "140351          Lee A Martin  ...   Low Income\n",
              "100749       Margarie  Davis  ...     Midrange\n",
              "\n",
              "[10 rows x 10 columns]"
            ]
          },
          "metadata": {
            "tags": []
          },
          "execution_count": 201
        }
      ]
    },
    {
      "cell_type": "code",
      "metadata": {
        "id": "Uh8VVB1nPm2a",
        "colab_type": "code",
        "outputId": "856a85b2-114f-4405-a2a0-886fcff45b97",
        "colab": {
          "base_uri": "https://localhost:8080/",
          "height": 296
        }
      },
      "source": [
        "sns.countplot(sal['IncomeType'])\n",
        "# What can you tell?"
      ],
      "execution_count": 0,
      "outputs": [
        {
          "output_type": "execute_result",
          "data": {
            "text/plain": [
              "<matplotlib.axes._subplots.AxesSubplot at 0x7f89306103c8>"
            ]
          },
          "metadata": {
            "tags": []
          },
          "execution_count": 202
        },
        {
          "output_type": "display_data",
          "data": {
            "image/png": "[encoded data removed]",
            "text/plain": [
              "<Figure size 432x288 with 1 Axes>"
            ]
          },
          "metadata": {
            "tags": []
          }
        }
      ]
    },
    {
      "cell_type": "code",
      "metadata": {
        "id": "iQtknDUIPm2e",
        "colab_type": "code",
        "outputId": "cacae690-40ee-479c-b4fc-983e1b5528d0",
        "colab": {
          "base_uri": "https://localhost:8080/",
          "height": 297
        }
      },
      "source": [
        "# Pie chart\n",
        "labels = []\n",
        "sizes = []\n",
        "explode = []\n",
        "\n",
        "labels = sal['IncomeType'].value_counts().index\n",
        "for index, size in enumerate(sal['IncomeType'].value_counts()):\n",
        "    sizes.append(size)\n",
        "    if labels[index]=='Millionaire':\n",
        "        explode.append(0.2)\n",
        "    else: # add high income too?\n",
        "        explode.append(0)\n",
        " \n",
        "f, ax1 = plt.subplots()\n",
        "ax1.pie(sizes, explode=explode, labels=labels, autopct='%1.1f%%',\n",
        "        shadow=True, startangle=45)\n",
        "# Equal aspect ratio ensures that pie is drawn as a circle\n",
        "ax1.axis('equal')  \n",
        "plt.tight_layout()\n",
        "plt.show()"
      ],
      "execution_count": 0,
      "outputs": [
        {
          "output_type": "display_data",
          "data": {
            "image/png": "[encoded data removed]",
            "text/plain": [
              "<Figure size 432x288 with 1 Axes>"
            ]
          },
          "metadata": {
            "tags": []
          }
        }
      ]
    },
    {
      "cell_type": "code",
      "metadata": {
        "id": "pbAUA-kgPm20",
        "colab_type": "code",
        "outputId": "00f861c3-eeba-4c25-ae6c-de5e94db10e3",
        "colab": {
          "base_uri": "https://localhost:8080/",
          "height": 282
        }
      },
      "source": [
        "# What is the top 10 Job Title of Millionaire\n",
        "top10job_count = sal[sal['IncomeType'] == 'Millionaire']['JobTitle'].value_counts().head(10)\n",
        "top10job_count.plot(kind='barh')"
      ],
      "execution_count": 0,
      "outputs": [
        {
          "output_type": "execute_result",
          "data": {
            "text/plain": [
              "<matplotlib.axes._subplots.AxesSubplot at 0x7f893047ff98>"
            ]
          },
          "metadata": {
            "tags": []
          },
          "execution_count": 207
        },
        {
          "output_type": "display_data",
          "data": {
            "image/png": "[encoded data removed]",
            "text/plain": [
              "<Figure size 432x288 with 1 Axes>"
            ]
          },
          "metadata": {
            "tags": []
          }
        }
      ]
    },
    {
      "cell_type": "code",
      "metadata": {
        "id": "5ZijjWxImebt",
        "colab_type": "code",
        "outputId": "51a99ced-533b-41d6-cc36-df04ba7173de",
        "colab": {
          "base_uri": "https://localhost:8080/",
          "height": 282
        }
      },
      "source": [
        "top10job_earning = sal[sal['IncomeType'] == 'Millionaire'].groupby('JobTitle')[['TotalPayBenefits']].mean()\n",
        "top10job_earning.sort_values(by=['TotalPayBenefits'], ascending = False).head(10).plot(kind='barh')"
      ],
      "execution_count": 0,
      "outputs": [
        {
          "output_type": "execute_result",
          "data": {
            "text/plain": [
              "<matplotlib.axes._subplots.AxesSubplot at 0x7f8930352a58>"
            ]
          },
          "metadata": {
            "tags": []
          },
          "execution_count": 216
        },
        {
          "output_type": "display_data",
          "data": {
            "image/png": "[encoded data removed]",
            "text/plain": [
              "<Figure size 432x288 with 1 Axes>"
            ]
          },
          "metadata": {
            "tags": []
          }
        }
      ]
    },
    {
      "cell_type": "code",
      "metadata": {
        "id": "5LNMS8DGPm22",
        "colab_type": "code",
        "colab": {}
      },
      "source": [
        "# Find the name of 10 richest man\n",
        "richest_man = sal.sort_values(by=['TotalPayBenefits'], ascending = False).head(10)['EmployeeName'].values"
      ],
      "execution_count": 0,
      "outputs": []
    },
    {
      "cell_type": "code",
      "metadata": {
        "id": "TDMwfQIfPm2-",
        "colab_type": "code",
        "colab": {}
      },
      "source": [
        "# Analyze TotalPayBenefits of 10 richest man each Year\n",
        "rich_data = sal[sal['EmployeeName'].isin(richest_man)]"
      ],
      "execution_count": 0,
      "outputs": []
    },
    {
      "cell_type": "code",
      "metadata": {
        "id": "2BJkGKsap9LL",
        "colab_type": "code",
        "outputId": "cb462408-b826-4e20-a99c-9058f6005eda",
        "colab": {
          "base_uri": "https://localhost:8080/",
          "height": 296
        }
      },
      "source": [
        "sns.barplot(data=rich_data, x='TotalPayBenefits', y='EmployeeName', hue='Year')"
      ],
      "execution_count": 0,
      "outputs": [
        {
          "output_type": "execute_result",
          "data": {
            "text/plain": [
              "<matplotlib.axes._subplots.AxesSubplot at 0x7f892bf269b0>"
            ]
          },
          "metadata": {
            "tags": []
          },
          "execution_count": 233
        },
        {
          "output_type": "display_data",
          "data": {
            "image/png": "[encoded data removed]",
            "text/plain": [
              "<Figure size 432x288 with 1 Axes>"
            ]
          },
          "metadata": {
            "tags": []
          }
        }
      ]
    },
    {
      "cell_type": "code",
      "metadata": {
        "id": "G7_39t4iqjSQ",
        "colab_type": "code",
        "colab": {}
      },
      "source": [
        ""
      ],
      "execution_count": 0,
      "outputs": []
    }
  ]
}